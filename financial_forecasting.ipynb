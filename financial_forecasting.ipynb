{
 "cells": [
  {
   "cell_type": "code",
   "execution_count": 2,
   "metadata": {},
   "outputs": [],
   "source": [
    "import os\n",
    "import pandas as pd\n",
    "import numpy as np\n",
    "\n",
    "import torch\n",
    "from torch import nn\n",
    "from tqdm import tqdm\n",
    "import pylab\n",
    "from torch.utils.data import Dataset, DataLoader\n",
    "\n",
    "from fin_utils.metrics.pnl import pnl_from_positions\n",
    "from fin_utils.candles.features import construct_features\n",
    "from fin_utils.candles.loading import load_feather_dir\n",
    "from fin_utils.candles.labels import construct_labels\n",
    "\n",
    "from ml_utils import fix_random_seed, init_xavier_uniform\n",
    "fix_random_seed(0)\n",
    "from ml_utils.datasets import WindowedFeaturesLabelsDataset, WindowedBacktestDataset\n",
    "from ml_utils.metrics import accuracy\n",
    "\n",
    "from models.mlp import MLP"
   ]
  },
  {
   "cell_type": "markdown",
   "metadata": {},
   "source": [
    "## Data Preperation\n",
    "First, let's prepare the data for training.\n",
    "\n",
    "**Note** that the entire code from the next cell was part of prior work performed by the folks that run the DeepFinance project and I am using it as part of my task. None of it is a contribution from my part"
   ]
  },
  {
   "cell_type": "code",
   "execution_count": 3,
   "metadata": {},
   "outputs": [
    {
     "name": "stdout",
     "output_type": "stream",
     "text": [
      "1    26778\n",
      "2    25854\n",
      "dtype: int64\n",
      "2\n"
     ]
    }
   ],
   "source": [
    "# 1) decide on coin list, load feathers and construct features\n",
    "# coin_list = ['EURCHF']\n",
    "# coin_list = ['AUDCAD', 'EURCHF']\n",
    "# coin_list = ['AUDCAD', 'AUDCHF', 'AUDJPY', 'AUDNZD', 'AUDUSD', 'CADCHF', 'CADJPY', 'CHFJPY', 'EURAUD', 'EURCAD',\n",
    "#              'EURCHF', 'EURDKK', 'EURGBP', 'EURJPY', 'EURNOK', 'EURNZD', 'EURSEK', 'EURUSD', 'GBPAUD', 'GBPCAD',\n",
    "#              'GBPCHF', 'GBPJPY', 'GBPNZD', 'GBPUSD', 'NZDCAD', 'NZDCHF', 'NZDJPY', 'NZDUSD', 'SGDJPY', 'USDCAD',\n",
    "#              'USDCHF', 'USDDKK', 'USDHKD', 'USDJPY', 'USDNOK', 'USDSEK', 'USDSGD']\n",
    "# PATH_TO_FEATHER = '../data/Forex/'\n",
    "# let's use crypto for now\n",
    "coin_list = ['BTCUSDT', 'LTCBTC', 'ETHBTC']\n",
    "PATH_TO_FEATHER = './data/Crypto/minute_binance' # change this to point to the data folder\n",
    "index_col = 'date'\n",
    "# RESAMPLE = '30T'\n",
    "resample = '1H'\n",
    "\n",
    "candle_dict = load_feather_dir(PATH_TO_FEATHER, pairs=coin_list, resample=resample,\n",
    "                               n_workers=6, index_col=index_col)\n",
    "assets = list(candle_dict.keys())\n",
    "\n",
    "features = construct_features(candle_dict, train_end='2020', normalize=True,\n",
    "                              feature_config=(\n",
    "                                  # basic features\n",
    "                                  dict(name='int_bar_changes', func_name='inter_bar_changes',\n",
    "                                       columns=['close', 'high', 'low'],\n",
    "                                       use_pct=True),\n",
    "                                  # dict(name='int_bar_changes_10', func_name='inter_bar_changes',\n",
    "                                  #      columns=['close', 'high', 'low'], use_pct=True,\n",
    "                                  #      smoothing_window=10),\n",
    "                                  # dict(func_name='hl_to_pclose'),\n",
    "                                  # dict(func_name='next_return'),  # this is a cheat feature, to test we can learn\n",
    "                              ))\n",
    "#print(features)\n",
    "\n",
    "# 2) decide on train/val/test split (train/val for simplicity for now)\n",
    "train_start = '2000'\n",
    "train_end = '2018'\n",
    "val_start = '2019'\n",
    "val_end = '2020'\n",
    "train_features = {k: features[k][train_start:train_end] for k in features.keys()}\n",
    "val_features = {k: features[k][val_start:val_end] for k in features.keys()}\n",
    "\n",
    "#print(train_features)\n",
    "#print(val_features)\n",
    "\n",
    "# 3) setup classification targets\n",
    "labels = construct_labels(candle_dict,\n",
    "                          label_config=dict(name='oracle_labels',\n",
    "                                            parameters=dict(target_profit=5e-3))\n",
    "                          )\n",
    "train_labels = {k: labels[k][train_start:train_end] for k in labels.keys()}\n",
    "val_labels = {k: labels[k][val_start:val_end] for k in labels.keys()}\n",
    "first_key = list(val_labels.keys())[0]\n",
    "class_indices = val_labels[first_key].unique()\n",
    "samples_per_class = pd.concat(val_labels).value_counts()\n",
    "print(samples_per_class)\n",
    "n_classes = len(class_indices)\n",
    "print(n_classes)\n",
    "\n",
    "# 4) Create data loaders\n",
    "batch_size = 128\n",
    "val_batch_size = 256\n",
    "window = 5  # how many time steps to concatenate for each sample\n",
    "n_features = train_features[first_key].shape[1] * window\n",
    "step_size = 1  # stride of timeseries sampling\n",
    "\n",
    "train_dataset = WindowedFeaturesLabelsDataset(train_features, train_labels, w=window, s=step_size)\n",
    "val_dataset = WindowedFeaturesLabelsDataset(val_features, val_labels, w=window, s=step_size)\n",
    "train_loader = torch.utils.data.DataLoader(train_dataset, batch_size=batch_size, shuffle=True)\n",
    "val_loader = torch.utils.data.DataLoader(val_dataset, batch_size=val_batch_size)"
   ]
  },
  {
   "cell_type": "code",
   "execution_count": 4,
   "metadata": {},
   "outputs": [
    {
     "name": "stdout",
     "output_type": "stream",
     "text": [
      "[[ 1.1853136   0.06850793 -0.1697123 ]\n",
      " [ 1.1853136   0.06850793 -0.1697123 ]\n",
      " [-2.2757843  -1.3243904  -0.025342  ]\n",
      " ...\n",
      " [ 0.04927521  0.89848125 -0.00661464]\n",
      " [ 0.33758694  0.5058673   0.00626452]\n",
      " [-0.291493   -0.13030432  0.00849401]]\n"
     ]
    }
   ],
   "source": [
    "# Let's have a look on some training data\n",
    "print(train_features['ethbtc'].to_numpy())"
   ]
  },
  {
   "cell_type": "markdown",
   "metadata": {},
   "source": [
    "## Convolutional Neural Network\n",
    "Let's get started by working with CNNs. First, I am defining the NN interface (using a PyTorch model class) and afterwards I am training and testing it accordingly. For more info, please refer to the report that is part of my submission."
   ]
  },
  {
   "cell_type": "code",
   "execution_count": 8,
   "metadata": {},
   "outputs": [],
   "source": [
    "from torch import nn\n",
    "import torch.nn.functional as F\n",
    "\n",
    "class CNN(nn.Module):\n",
    "    def __init__(self, in_channels=1, cnn_channels=8, n_output=3, kernel_size=3, stride=1, padding='same'):\n",
    "        super(CNN, self).__init__()\n",
    "\n",
    "        self.conv1 = nn.Conv1d(in_channels, cnn_channels, kernel_size, stride, padding)\n",
    "        self.conv2 = nn.Conv1d(cnn_channels, cnn_channels, kernel_size, stride, padding)\n",
    "        self.conv3 = nn.Conv1d(cnn_channels, cnn_channels, kernel_size, stride, padding)\n",
    "\n",
    "        self.pool = nn.MaxPool1d(2, stride=2)\n",
    "        self.bn = nn.BatchNorm1d(in_channels)\n",
    "        self.flatten = nn.Flatten()\n",
    "\n",
    "        self.fc = nn.LazyLinear(n_output)\n",
    "\n",
    "    def forward(self, x):\n",
    "        x = self.bn(x)\n",
    "\n",
    "        x = self.pool(F.relu(self.conv1(x)))\n",
    "        x = self.pool(F.relu(self.conv2(x)))\n",
    "        x = self.pool(F.relu(self.conv3(x)))\n",
    "\n",
    "        x = self.flatten(x)\n",
    "        x = self.fc(x)\n",
    "\n",
    "        return x\n",
    "\n",
    "# Added for completeness, can be used for testing\n",
    "class VGGLike(nn.Module):\n",
    "    def __init__(self, in_channels=1, initial_out_channels=8, n_output=3, kernel_size=3, stride=1, padding='same'):\n",
    "        super(VGGLike, self).__init__()\n",
    "\n",
    "        self.conv1 = nn.Conv1d(in_channels, initial_out_channels, kernel_size, stride, padding)\n",
    "        self.conv2 = nn.Conv1d(initial_out_channels, 2 * initial_out_channels, kernel_size, stride, padding)\n",
    "        self.conv3 = nn.Conv1d(2 * initial_out_channels, 4 * initial_out_channels, kernel_size, stride, padding)\n",
    "\n",
    "        self.pool = nn.MaxPool1d(2, stride=2)\n",
    "        self.bn = nn.BatchNorm1d(in_channels)\n",
    "        self.flatten = nn.Flatten()\n",
    "\n",
    "        self.fc = nn.LazyLinear(n_output)\n",
    "\n",
    "    def forward(self, x):\n",
    "        x = self.bn(x)\n",
    "\n",
    "        x = self.pool(F.relu(self.conv1(x)))\n",
    "        x = self.pool(F.relu(self.conv2(x)))\n",
    "        x = self.pool(F.relu(self.conv3(x)))\n",
    "\n",
    "        x = self.flatten(x)\n",
    "        x = self.fc(x)\n",
    "\n",
    "        return x\n"
   ]
  },
  {
   "cell_type": "code",
   "execution_count": 6,
   "metadata": {},
   "outputs": [
    {
     "name": "stderr",
     "output_type": "stream",
     "text": [
      "/Users/nicktzavidas/anaconda3/lib/python3.8/site-packages/torch/nn/modules/lazy.py:178: UserWarning: Lazy modules are a new feature under heavy development so changes to the API or functionality can happen at any moment.\n",
      "  warnings.warn('Lazy modules are a new feature under heavy development '\n"
     ]
    }
   ],
   "source": [
    "# 5) setup a network\n",
    "net = CNN(in_channels=1, cnn_channels=2, kernel_size=5)\n",
    "\n",
    "device = 'cpu'\n",
    "net.to(device)\n",
    "\n",
    "n_epochs = 20\n",
    "loss = nn.CrossEntropyLoss()\n",
    "optimizer = torch.optim.Adam(net.parameters(), lr=1e-3)\n",
    "\n",
    "train_losses = []\n",
    "val_losses = []\n",
    "train_accs = []\n",
    "val_accs = []"
   ]
  },
  {
   "cell_type": "code",
   "execution_count": 7,
   "metadata": {},
   "outputs": [
    {
     "name": "stderr",
     "output_type": "stream",
     "text": [
      "  2%|▏         | 7/295 [00:00<00:04, 68.33it/s, train_loss=1.05, train_acc=49]  "
     ]
    },
    {
     "name": "stdout",
     "output_type": "stream",
     "text": [
      "\n",
      "Epoch 1/20\n"
     ]
    },
    {
     "name": "stderr",
     "output_type": "stream",
     "text": [
      "100%|██████████| 295/295 [00:01<00:00, 207.58it/s, train_loss=0.91, train_acc=52.9] \n",
      "100%|██████████| 206/206 [00:00<00:00, 259.50it/s, val_loss=0.727, val_acc=57.2]\n",
      "  6%|▋         | 19/295 [00:00<00:01, 188.65it/s, train_loss=0.716, train_acc=56.2]"
     ]
    },
    {
     "name": "stdout",
     "output_type": "stream",
     "text": [
      "\n",
      "Epoch 2/20\n"
     ]
    },
    {
     "name": "stderr",
     "output_type": "stream",
     "text": [
      "100%|██████████| 295/295 [00:01<00:00, 193.25it/s, train_loss=0.696, train_acc=56.3]\n",
      "100%|██████████| 206/206 [00:00<00:00, 256.46it/s, val_loss=0.685, val_acc=59.8]\n",
      "  5%|▌         | 16/295 [00:00<00:01, 152.32it/s, train_loss=0.687, train_acc=57.9]"
     ]
    },
    {
     "name": "stdout",
     "output_type": "stream",
     "text": [
      "\n",
      "Epoch 3/20\n"
     ]
    },
    {
     "name": "stderr",
     "output_type": "stream",
     "text": [
      "100%|██████████| 295/295 [00:01<00:00, 230.50it/s, train_loss=0.688, train_acc=57.2]\n",
      "100%|██████████| 206/206 [00:00<00:00, 279.76it/s, val_loss=0.684, val_acc=57.6]\n",
      "  8%|▊         | 23/295 [00:00<00:01, 228.16it/s, train_loss=0.688, train_acc=58.2]"
     ]
    },
    {
     "name": "stdout",
     "output_type": "stream",
     "text": [
      "\n",
      "Epoch 4/20\n"
     ]
    },
    {
     "name": "stderr",
     "output_type": "stream",
     "text": [
      "100%|██████████| 295/295 [00:01<00:00, 244.57it/s, train_loss=0.686, train_acc=57.8]\n",
      "100%|██████████| 206/206 [00:00<00:00, 283.41it/s, val_loss=0.682, val_acc=59.3]\n",
      "  8%|▊         | 25/295 [00:00<00:01, 247.97it/s, train_loss=0.684, train_acc=58.1]"
     ]
    },
    {
     "name": "stdout",
     "output_type": "stream",
     "text": [
      "\n",
      "Epoch 5/20\n"
     ]
    },
    {
     "name": "stderr",
     "output_type": "stream",
     "text": [
      "100%|██████████| 295/295 [00:01<00:00, 229.11it/s, train_loss=0.685, train_acc=58.5]\n",
      "100%|██████████| 206/206 [00:00<00:00, 295.16it/s, val_loss=0.678, val_acc=60.8]\n",
      "  7%|▋         | 20/295 [00:00<00:01, 197.34it/s, train_loss=0.684, train_acc=58.8]"
     ]
    },
    {
     "name": "stdout",
     "output_type": "stream",
     "text": [
      "\n",
      "Epoch 6/20\n"
     ]
    },
    {
     "name": "stderr",
     "output_type": "stream",
     "text": [
      "100%|██████████| 295/295 [00:01<00:00, 195.01it/s, train_loss=0.683, train_acc=58.8]\n",
      "100%|██████████| 206/206 [00:00<00:00, 210.33it/s, val_loss=0.677, val_acc=60.7]\n",
      "  6%|▋         | 19/295 [00:00<00:01, 183.14it/s, train_loss=0.684, train_acc=58.9]"
     ]
    },
    {
     "name": "stdout",
     "output_type": "stream",
     "text": [
      "\n",
      "Epoch 7/20\n"
     ]
    },
    {
     "name": "stderr",
     "output_type": "stream",
     "text": [
      "100%|██████████| 295/295 [00:01<00:00, 229.16it/s, train_loss=0.682, train_acc=59.4]\n",
      "100%|██████████| 206/206 [00:00<00:00, 302.89it/s, val_loss=0.68, val_acc=57.1] \n",
      "  9%|▉         | 26/295 [00:00<00:01, 254.34it/s, train_loss=0.683, train_acc=58.9]"
     ]
    },
    {
     "name": "stdout",
     "output_type": "stream",
     "text": [
      "\n",
      "Epoch 8/20\n"
     ]
    },
    {
     "name": "stderr",
     "output_type": "stream",
     "text": [
      "100%|██████████| 295/295 [00:01<00:00, 253.65it/s, train_loss=0.682, train_acc=59.3]\n",
      "100%|██████████| 206/206 [00:00<00:00, 316.84it/s, val_loss=0.675, val_acc=60.8]\n",
      "  9%|▉         | 26/295 [00:00<00:01, 258.36it/s, train_loss=0.681, train_acc=60]  "
     ]
    },
    {
     "name": "stdout",
     "output_type": "stream",
     "text": [
      "\n",
      "Epoch 9/20\n"
     ]
    },
    {
     "name": "stderr",
     "output_type": "stream",
     "text": [
      "100%|██████████| 295/295 [00:01<00:00, 180.50it/s, train_loss=0.681, train_acc=59.9]\n",
      "100%|██████████| 206/206 [00:01<00:00, 192.27it/s, val_loss=0.677, val_acc=58.1]\n",
      "  8%|▊         | 25/295 [00:00<00:01, 243.67it/s, train_loss=0.68, train_acc=59.4] "
     ]
    },
    {
     "name": "stdout",
     "output_type": "stream",
     "text": [
      "\n",
      "Epoch 10/20\n"
     ]
    },
    {
     "name": "stderr",
     "output_type": "stream",
     "text": [
      "100%|██████████| 295/295 [00:01<00:00, 235.51it/s, train_loss=0.68, train_acc=59.8] \n",
      "100%|██████████| 206/206 [00:00<00:00, 261.36it/s, val_loss=0.674, val_acc=60.9]\n",
      "  7%|▋         | 21/295 [00:00<00:01, 204.89it/s, train_loss=0.678, train_acc=60.5]"
     ]
    },
    {
     "name": "stdout",
     "output_type": "stream",
     "text": [
      "\n",
      "Epoch 11/20\n"
     ]
    },
    {
     "name": "stderr",
     "output_type": "stream",
     "text": [
      "100%|██████████| 295/295 [00:01<00:00, 196.48it/s, train_loss=0.68, train_acc=59.8] \n",
      "100%|██████████| 206/206 [00:00<00:00, 269.36it/s, val_loss=0.677, val_acc=57.7]\n",
      "  8%|▊         | 23/295 [00:00<00:01, 228.38it/s, train_loss=0.681, train_acc=58.9]"
     ]
    },
    {
     "name": "stdout",
     "output_type": "stream",
     "text": [
      "\n",
      "Epoch 12/20\n"
     ]
    },
    {
     "name": "stderr",
     "output_type": "stream",
     "text": [
      "100%|██████████| 295/295 [00:01<00:00, 208.09it/s, train_loss=0.68, train_acc=59.5] \n",
      "100%|██████████| 206/206 [00:00<00:00, 262.15it/s, val_loss=0.673, val_acc=61.1]\n",
      "  8%|▊         | 23/295 [00:00<00:01, 226.24it/s, train_loss=0.676, train_acc=60.5]"
     ]
    },
    {
     "name": "stdout",
     "output_type": "stream",
     "text": [
      "\n",
      "Epoch 13/20\n"
     ]
    },
    {
     "name": "stderr",
     "output_type": "stream",
     "text": [
      "100%|██████████| 295/295 [00:01<00:00, 241.96it/s, train_loss=0.679, train_acc=59.9]\n",
      "100%|██████████| 206/206 [00:00<00:00, 316.16it/s, val_loss=0.675, val_acc=59.2]\n",
      "  7%|▋         | 20/295 [00:00<00:01, 199.49it/s, train_loss=0.673, train_acc=60.9]"
     ]
    },
    {
     "name": "stdout",
     "output_type": "stream",
     "text": [
      "\n",
      "Epoch 14/20\n"
     ]
    },
    {
     "name": "stderr",
     "output_type": "stream",
     "text": [
      "100%|██████████| 295/295 [00:01<00:00, 237.27it/s, train_loss=0.679, train_acc=60]  \n",
      "100%|██████████| 206/206 [00:00<00:00, 288.79it/s, val_loss=0.674, val_acc=59.4]\n",
      "  8%|▊         | 25/295 [00:00<00:01, 245.80it/s, train_loss=0.678, train_acc=60]  "
     ]
    },
    {
     "name": "stdout",
     "output_type": "stream",
     "text": [
      "\n",
      "Epoch 15/20\n"
     ]
    },
    {
     "name": "stderr",
     "output_type": "stream",
     "text": [
      "100%|██████████| 295/295 [00:01<00:00, 248.45it/s, train_loss=0.678, train_acc=59.8]\n",
      "100%|██████████| 206/206 [00:00<00:00, 278.69it/s, val_loss=0.672, val_acc=60.9]\n",
      "  8%|▊         | 24/295 [00:00<00:01, 237.01it/s, train_loss=0.684, train_acc=58]  "
     ]
    },
    {
     "name": "stdout",
     "output_type": "stream",
     "text": [
      "\n",
      "Epoch 16/20\n"
     ]
    },
    {
     "name": "stderr",
     "output_type": "stream",
     "text": [
      "100%|██████████| 295/295 [00:01<00:00, 250.66it/s, train_loss=0.678, train_acc=60.1]\n",
      "100%|██████████| 206/206 [00:00<00:00, 289.84it/s, val_loss=0.672, val_acc=60.2]\n",
      "  8%|▊         | 23/295 [00:00<00:01, 226.56it/s, train_loss=0.678, train_acc=59.8]"
     ]
    },
    {
     "name": "stdout",
     "output_type": "stream",
     "text": [
      "\n",
      "Epoch 17/20\n"
     ]
    },
    {
     "name": "stderr",
     "output_type": "stream",
     "text": [
      "100%|██████████| 295/295 [00:01<00:00, 242.27it/s, train_loss=0.678, train_acc=60]  \n",
      "100%|██████████| 206/206 [00:00<00:00, 287.27it/s, val_loss=0.673, val_acc=59.6]\n",
      "  8%|▊         | 23/295 [00:00<00:01, 224.20it/s, train_loss=0.674, train_acc=60.5]"
     ]
    },
    {
     "name": "stdout",
     "output_type": "stream",
     "text": [
      "\n",
      "Epoch 18/20\n"
     ]
    },
    {
     "name": "stderr",
     "output_type": "stream",
     "text": [
      "100%|██████████| 295/295 [00:01<00:00, 242.42it/s, train_loss=0.678, train_acc=60.1]\n",
      "100%|██████████| 206/206 [00:00<00:00, 294.72it/s, val_loss=0.673, val_acc=59.8]\n",
      "  8%|▊         | 25/295 [00:00<00:01, 242.99it/s, train_loss=0.673, train_acc=61]  "
     ]
    },
    {
     "name": "stdout",
     "output_type": "stream",
     "text": [
      "\n",
      "Epoch 19/20\n"
     ]
    },
    {
     "name": "stderr",
     "output_type": "stream",
     "text": [
      "100%|██████████| 295/295 [00:01<00:00, 241.44it/s, train_loss=0.677, train_acc=60]  \n",
      "100%|██████████| 206/206 [00:00<00:00, 291.11it/s, val_loss=0.673, val_acc=59]  \n",
      "  7%|▋         | 22/295 [00:00<00:01, 219.67it/s, train_loss=0.68, train_acc=61]   "
     ]
    },
    {
     "name": "stdout",
     "output_type": "stream",
     "text": [
      "\n",
      "Epoch 20/20\n"
     ]
    },
    {
     "name": "stderr",
     "output_type": "stream",
     "text": [
      "100%|██████████| 295/295 [00:01<00:00, 242.46it/s, train_loss=0.678, train_acc=60.2]\n",
      "100%|██████████| 206/206 [00:00<00:00, 281.87it/s, val_loss=0.677, val_acc=56.6]\n"
     ]
    },
    {
     "name": "stdout",
     "output_type": "stream",
     "text": [
      "ethbtc train PnL: 44.37966704865897\n",
      "ethbtc val PnL: 30.0871511237863\n",
      "btcusdt train PnL: 55.46332688581914\n",
      "btcusdt val PnL: 39.710050617804754\n",
      "ltcbtc train PnL: 46.86851039867464\n",
      "ltcbtc val PnL: 44.28671178988799\n"
     ]
    },
    {
     "data": {
      "image/png": "[encoded data removed]",
      "text/plain": [
       "<Figure size 432x288 with 2 Axes>"
      ]
     },
     "metadata": {
      "needs_background": "light"
     },
     "output_type": "display_data"
    }
   ],
   "source": [
    "for epoch in range(n_epochs):\n",
    "    train_running_loss = 0.\n",
    "    train_running_acc = 0.\n",
    "    train_batches = 0\n",
    "\n",
    "    print(f\"\\nEpoch {epoch + 1}/{n_epochs}\")\n",
    "\n",
    "    tbar = tqdm(enumerate(train_loader), leave=True, position=0, total=len(train_loader))\n",
    "    for idx, (train_input, train_target) in tbar:\n",
    "        train_input = torch.unsqueeze(train_input, 1)\n",
    "        train_input = train_input.to(device)\n",
    "        train_target = train_target.to(device)\n",
    "\n",
    "        optimizer.zero_grad()\n",
    "        train_output = net(train_input)\n",
    "        train_loss = loss(train_output, train_target)\n",
    "        train_loss.backward()\n",
    "        optimizer.step()\n",
    "\n",
    "        train_batches += 1\n",
    "        train_running_loss += train_loss.cpu().clone().item()\n",
    "        train_running_acc += accuracy(train_output, train_target)\n",
    "\n",
    "        tbar.set_postfix({\"train_loss\": train_running_loss / train_batches,\n",
    "                          \"train_acc\": train_running_acc / train_batches})\n",
    "    train_losses.append(train_running_loss / train_batches)\n",
    "    train_accs.append(train_running_acc / train_batches)\n",
    "\n",
    "    val_running_loss = 0.\n",
    "    val_running_acc = 0.\n",
    "    val_batches = 0\n",
    "\n",
    "    vbar = tqdm(enumerate(val_loader), leave=True, position=0, total=len(val_loader))\n",
    "    net.eval()\n",
    "\n",
    "    for idx, (val_input, val_target) in vbar:\n",
    "        with torch.no_grad():\n",
    "            val_input = torch.unsqueeze(val_input, 1)\n",
    "            val_input = val_input.to(device)\n",
    "            val_target = val_target.to(device)\n",
    "\n",
    "            val_output = net(val_input)\n",
    "            val_loss = loss(val_output, val_target)\n",
    "\n",
    "            val_batches += 1\n",
    "            val_running_loss += val_loss.cpu().clone().item()\n",
    "            val_running_acc += accuracy(val_output, val_target)\n",
    "\n",
    "            vbar.set_postfix({\"val_loss\": val_running_loss / val_batches,\n",
    "                              \"val_acc\": val_running_acc / val_batches})\n",
    "    val_losses.append(val_running_loss / val_batches)\n",
    "    val_accs.append(val_running_acc / val_batches)\n",
    "\n",
    "commission = 2e-5\n",
    "with torch.no_grad():\n",
    "    for asset in assets:\n",
    "        candle = candle_dict[asset]\n",
    "\n",
    "        train_bt_dataset = WindowedBacktestDataset(train_features, w=window, s=step_size, asset=asset)\n",
    "        train_predictions = pd.DataFrame(columns=['preds'], index=train_bt_dataset.timestamps[asset])\n",
    "        asset_loader = DataLoader(train_bt_dataset, batch_size=200, drop_last=False)\n",
    "\n",
    "        for idx, batch_asset_features in enumerate(asset_loader):\n",
    "            train_batch_size = batch_asset_features.size(0)\n",
    "            batch_asset_features = torch.unsqueeze(batch_asset_features, 1)\n",
    "            batch_asset_features = batch_asset_features.to(device)\n",
    "            batch_asset_output = net(batch_asset_features)\n",
    "            _, batch_asset_predictions = batch_asset_output.max(1)\n",
    "            batch_asset_predictions[batch_asset_predictions == 2] = -1\n",
    "            train_predictions['preds'][idx * train_batch_size:(idx + 1) * train_batch_size] = batch_asset_predictions.cpu().numpy()\n",
    "        train_predictions.index = train_bt_dataset.timestamps[asset]\n",
    "        train_predictions = train_predictions['preds']\n",
    "        pnl = pnl_from_positions(candle, train_predictions, commission=commission).sum()\n",
    "        print(f\"{asset} train PnL: {pnl}\")\n",
    "\n",
    "        val_bt_dataset = WindowedBacktestDataset(val_features, w=window, s=step_size, asset=asset)\n",
    "        val_predictions = pd.DataFrame(columns=['preds'], index=val_bt_dataset.timestamps[asset])\n",
    "        asset_loader = DataLoader(val_bt_dataset, batch_size=200, drop_last=False)\n",
    "\n",
    "        for idx, batch_asset_features in enumerate(asset_loader):\n",
    "            val_batch_size = batch_asset_features.size(0)\n",
    "            batch_asset_features = torch.unsqueeze(batch_asset_features, 1)\n",
    "            batch_asset_features = batch_asset_features.to(device)\n",
    "            batch_asset_output = net(batch_asset_features)\n",
    "            _, batch_asset_predictions = batch_asset_output.max(1)\n",
    "            batch_asset_predictions[batch_asset_predictions == 2] = -1\n",
    "            val_predictions['preds'][idx * val_batch_size:(idx + 1) * val_batch_size] = batch_asset_predictions.cpu().numpy()\n",
    "        val_predictions.index = val_bt_dataset.timestamps[asset]\n",
    "        val_predictions = val_predictions['preds']\n",
    "        pnl = pnl_from_positions(candle, val_predictions, commission=commission).sum()\n",
    "        print(f\"{asset} val PnL: {pnl}\")\n",
    "\n",
    "fig, axs = pylab.subplots(2, 1)\n",
    "axs[0].plot(train_losses)\n",
    "axs[0].plot(val_losses)\n",
    "axs[1].plot(train_accs)\n",
    "axs[1].plot(val_accs)\n",
    "\n",
    "pylab.show()\n"
   ]
  },
  {
   "cell_type": "markdown",
   "metadata": {},
   "source": [
    "## Recurrent Neural Network\n",
    "Next, I am working with RNNs archictures. I am operating in a fashion similar to the above section (first defining the model and trainging/testing it later). Like above, you can find more details about my work on the report."
   ]
  },
  {
   "cell_type": "code",
   "execution_count": 5,
   "metadata": {},
   "outputs": [],
   "source": [
    "from torch import nn\n",
    "\n",
    "class RNNNet(nn.Module):\n",
    "    def __init__(self, n_input, n_hidden, n_output, n_layers, dropout, rnn_type='rnn'):\n",
    "        super(RNNNet, self).__init__()\n",
    "\n",
    "        self.n_input = n_input\n",
    "        self.n_hidden = n_hidden\n",
    "        self.n_output = n_output\n",
    "        self.n_layers = n_layers\n",
    "        self.dropout = dropout\n",
    "        self.rnn_type = rnn_type\n",
    "\n",
    "        if rnn_type not in [ 'rnn', 'lstm', 'gru' ]: # Invalid RNN type\n",
    "            raise ValueError('Invalid RNN cell type')\n",
    "\n",
    "        rnn_layer_params = {\n",
    "            'input_size': n_input,\n",
    "            'hidden_size': n_hidden,\n",
    "            'num_layers': n_layers,\n",
    "            'dropout': dropout,\n",
    "            'batch_first': True\n",
    "        }\n",
    "\n",
    "        if rnn_type == 'rnn':\n",
    "            self.rnn_layer = nn.RNN(**rnn_layer_params)\n",
    "        elif rnn_type == 'lstm':\n",
    "            self.rnn_layer = nn.LSTM(**rnn_layer_params)\n",
    "        elif rnn_type == 'gru':\n",
    "            self.rnn_layer = nn.GRU(**rnn_layer_params)\n",
    "\n",
    "        self.fc = nn.Linear(n_hidden, n_output)\n",
    "\n",
    "    def forward(self, x, hidden):\n",
    "        batch_size = x.size(0)\n",
    "        \n",
    "        x, hidden = self.rnn_layer(x, hidden)\n",
    "        x = x.contiguous().view(-1, self.n_hidden)\n",
    "\n",
    "        x = self.fc(x)\n",
    "        \n",
    "        # reshape into (batch_size, seq_length, output_size)\n",
    "        x = x.view(batch_size, -1, self.n_output)\n",
    "        # get last batch\n",
    "        x = x[:, -1]\n",
    "        \n",
    "        return x, hidden\n",
    "\n",
    "\n",
    "    def init_hidden(self, batch_size):\n",
    "        weight = next(self.parameters()).data\n",
    "        \n",
    "        if self.rnn_type == 'lstm':\n",
    "            hidden = (weight.new(self.n_layers, batch_size, self.n_hidden).zero_(),\n",
    "                      weight.new(self.n_layers, batch_size, self.n_hidden).zero_())\n",
    "            \n",
    "        elif self.rnn_type == 'gru' or self.rnn_type == 'rnn':\n",
    "            hidden = weight.new(self.n_layers, batch_size, self.n_hidden).zero_()\n",
    "\n",
    "        return hidden\n",
    "\n"
   ]
  },
  {
   "cell_type": "code",
   "execution_count": 45,
   "metadata": {},
   "outputs": [],
   "source": [
    "# 5) setup a network\n",
    "type = 'rnn'\n",
    "\n",
    "net = RNNNet(n_input=1, n_hidden=5, n_output=3, n_layers=4, dropout=0.2, rnn_type=type)\n",
    "device = 'cpu'\n",
    "net.to(device)\n",
    "\n",
    "n_epochs = 20\n",
    "loss = nn.CrossEntropyLoss()\n",
    "optimizer = torch.optim.Adam(net.parameters(), lr=1e-3)\n",
    "\n",
    "train_losses = []\n",
    "val_losses = []\n",
    "train_accs = []\n",
    "val_accs = []"
   ]
  },
  {
   "cell_type": "code",
   "execution_count": 48,
   "metadata": {},
   "outputs": [
    {
     "name": "stderr",
     "output_type": "stream",
     "text": [
      "  3%|▎         | 9/295 [00:00<00:03, 88.80it/s, train_loss=1.02, train_acc=49.1]"
     ]
    },
    {
     "name": "stdout",
     "output_type": "stream",
     "text": [
      "\n",
      "Epoch 1/20\n"
     ]
    },
    {
     "name": "stderr",
     "output_type": "stream",
     "text": [
      "100%|██████████| 295/295 [00:02<00:00, 112.05it/s, train_loss=0.804, train_acc=49.8]\n",
      "100%|██████████| 206/206 [00:01<00:00, 169.94it/s, val_loss=0.72, val_acc=49.1] \n",
      "  3%|▎         | 10/295 [00:00<00:03, 94.58it/s, train_loss=0.719, train_acc=50.8]"
     ]
    },
    {
     "name": "stdout",
     "output_type": "stream",
     "text": [
      "\n",
      "Epoch 2/20\n"
     ]
    },
    {
     "name": "stderr",
     "output_type": "stream",
     "text": [
      "100%|██████████| 295/295 [00:02<00:00, 100.62it/s, train_loss=0.709, train_acc=50]  \n",
      "100%|██████████| 206/206 [00:01<00:00, 129.03it/s, val_loss=0.703, val_acc=50.9]\n",
      "  3%|▎         | 10/295 [00:00<00:03, 91.90it/s, train_loss=0.703, train_acc=50.2]"
     ]
    },
    {
     "name": "stdout",
     "output_type": "stream",
     "text": [
      "\n",
      "Epoch 3/20\n"
     ]
    },
    {
     "name": "stderr",
     "output_type": "stream",
     "text": [
      "100%|██████████| 295/295 [00:02<00:00, 119.89it/s, train_loss=0.701, train_acc=50]  \n",
      "100%|██████████| 206/206 [00:01<00:00, 191.83it/s, val_loss=0.7, val_acc=49.1]  \n",
      "  4%|▍         | 12/295 [00:00<00:02, 118.19it/s, train_loss=0.7, train_acc=48.3]  "
     ]
    },
    {
     "name": "stdout",
     "output_type": "stream",
     "text": [
      "\n",
      "Epoch 4/20\n"
     ]
    },
    {
     "name": "stderr",
     "output_type": "stream",
     "text": [
      "100%|██████████| 295/295 [00:02<00:00, 112.32it/s, train_loss=0.698, train_acc=49.8]\n",
      "100%|██████████| 206/206 [00:01<00:00, 171.74it/s, val_loss=0.697, val_acc=50.9]\n",
      "  4%|▍         | 13/295 [00:00<00:02, 124.29it/s, train_loss=0.698, train_acc=48.2]"
     ]
    },
    {
     "name": "stdout",
     "output_type": "stream",
     "text": [
      "\n",
      "Epoch 5/20\n"
     ]
    },
    {
     "name": "stderr",
     "output_type": "stream",
     "text": [
      "100%|██████████| 295/295 [00:02<00:00, 119.37it/s, train_loss=0.696, train_acc=50]  \n",
      "100%|██████████| 206/206 [00:01<00:00, 171.73it/s, val_loss=0.696, val_acc=50.9]\n",
      "  4%|▍         | 13/295 [00:00<00:02, 114.97it/s, train_loss=0.696, train_acc=50.6]"
     ]
    },
    {
     "name": "stdout",
     "output_type": "stream",
     "text": [
      "\n",
      "Epoch 6/20\n"
     ]
    },
    {
     "name": "stderr",
     "output_type": "stream",
     "text": [
      "100%|██████████| 295/295 [00:02<00:00, 122.95it/s, train_loss=0.696, train_acc=50.3]\n",
      "100%|██████████| 206/206 [00:01<00:00, 176.81it/s, val_loss=0.695, val_acc=49.1]\n",
      "  4%|▍         | 13/295 [00:00<00:02, 124.24it/s, train_loss=0.695, train_acc=49.5]"
     ]
    },
    {
     "name": "stdout",
     "output_type": "stream",
     "text": [
      "\n",
      "Epoch 7/20\n"
     ]
    },
    {
     "name": "stderr",
     "output_type": "stream",
     "text": [
      "100%|██████████| 295/295 [00:02<00:00, 128.09it/s, train_loss=0.695, train_acc=50.1]\n",
      "100%|██████████| 206/206 [00:01<00:00, 198.61it/s, val_loss=0.695, val_acc=50.9]\n",
      "  4%|▍         | 13/295 [00:00<00:02, 127.05it/s, train_loss=0.695, train_acc=51.3]"
     ]
    },
    {
     "name": "stdout",
     "output_type": "stream",
     "text": [
      "\n",
      "Epoch 8/20\n"
     ]
    },
    {
     "name": "stderr",
     "output_type": "stream",
     "text": [
      "100%|██████████| 295/295 [00:02<00:00, 120.79it/s, train_loss=0.695, train_acc=50]  \n",
      "100%|██████████| 206/206 [00:01<00:00, 180.65it/s, val_loss=0.695, val_acc=49.1]\n",
      "  4%|▍         | 12/295 [00:00<00:02, 116.86it/s, train_loss=0.694, train_acc=51.5]"
     ]
    },
    {
     "name": "stdout",
     "output_type": "stream",
     "text": [
      "\n",
      "Epoch 9/20\n"
     ]
    },
    {
     "name": "stderr",
     "output_type": "stream",
     "text": [
      "100%|██████████| 295/295 [00:02<00:00, 121.61it/s, train_loss=0.695, train_acc=49.9]\n",
      "100%|██████████| 206/206 [00:01<00:00, 198.94it/s, val_loss=0.694, val_acc=50.9]\n",
      "  4%|▍         | 12/295 [00:00<00:02, 115.55it/s, train_loss=0.695, train_acc=50.8]"
     ]
    },
    {
     "name": "stdout",
     "output_type": "stream",
     "text": [
      "\n",
      "Epoch 10/20\n"
     ]
    },
    {
     "name": "stderr",
     "output_type": "stream",
     "text": [
      "100%|██████████| 295/295 [00:02<00:00, 128.17it/s, train_loss=0.694, train_acc=50.2]\n",
      "100%|██████████| 206/206 [00:01<00:00, 188.64it/s, val_loss=0.694, val_acc=50.9]\n",
      "  4%|▍         | 12/295 [00:00<00:02, 112.31it/s, train_loss=0.694, train_acc=50.9]"
     ]
    },
    {
     "name": "stdout",
     "output_type": "stream",
     "text": [
      "\n",
      "Epoch 11/20\n"
     ]
    },
    {
     "name": "stderr",
     "output_type": "stream",
     "text": [
      "100%|██████████| 295/295 [00:02<00:00, 127.47it/s, train_loss=0.694, train_acc=50.6]\n",
      "100%|██████████| 206/206 [00:01<00:00, 195.03it/s, val_loss=0.693, val_acc=53.7]\n",
      "  4%|▎         | 11/295 [00:00<00:02, 109.33it/s, train_loss=0.693, train_acc=55]  "
     ]
    },
    {
     "name": "stdout",
     "output_type": "stream",
     "text": [
      "\n",
      "Epoch 12/20\n"
     ]
    },
    {
     "name": "stderr",
     "output_type": "stream",
     "text": [
      "100%|██████████| 295/295 [00:02<00:00, 122.57it/s, train_loss=0.675, train_acc=59.1]\n",
      "100%|██████████| 206/206 [00:00<00:00, 210.28it/s, val_loss=0.663, val_acc=61]  \n",
      "  2%|▏         | 7/295 [00:00<00:04, 67.29it/s, train_loss=0.66, train_acc=62.1] "
     ]
    },
    {
     "name": "stdout",
     "output_type": "stream",
     "text": [
      "\n",
      "Epoch 13/20\n"
     ]
    },
    {
     "name": "stderr",
     "output_type": "stream",
     "text": [
      "100%|██████████| 295/295 [00:02<00:00, 125.39it/s, train_loss=0.663, train_acc=61.3]\n",
      "100%|██████████| 206/206 [00:01<00:00, 188.11it/s, val_loss=0.657, val_acc=61.7]\n",
      "  4%|▍         | 12/295 [00:00<00:02, 114.68it/s, train_loss=0.665, train_acc=60.7]"
     ]
    },
    {
     "name": "stdout",
     "output_type": "stream",
     "text": [
      "\n",
      "Epoch 14/20\n"
     ]
    },
    {
     "name": "stderr",
     "output_type": "stream",
     "text": [
      "100%|██████████| 295/295 [00:02<00:00, 129.26it/s, train_loss=0.66, train_acc=61.6] \n",
      "100%|██████████| 206/206 [00:00<00:00, 206.53it/s, val_loss=0.653, val_acc=62]  \n",
      "  5%|▍         | 14/295 [00:00<00:02, 130.32it/s, train_loss=0.658, train_acc=61.7]"
     ]
    },
    {
     "name": "stdout",
     "output_type": "stream",
     "text": [
      "\n",
      "Epoch 15/20\n"
     ]
    },
    {
     "name": "stderr",
     "output_type": "stream",
     "text": [
      "100%|██████████| 295/295 [00:02<00:00, 128.13it/s, train_loss=0.658, train_acc=61.9]\n",
      "100%|██████████| 206/206 [00:01<00:00, 154.26it/s, val_loss=0.649, val_acc=62]  \n",
      "  3%|▎         | 9/295 [00:00<00:03, 85.98it/s, train_loss=0.649, train_acc=62.5]"
     ]
    },
    {
     "name": "stdout",
     "output_type": "stream",
     "text": [
      "\n",
      "Epoch 16/20\n"
     ]
    },
    {
     "name": "stderr",
     "output_type": "stream",
     "text": [
      "100%|██████████| 295/295 [00:02<00:00, 109.76it/s, train_loss=0.656, train_acc=61.7]\n",
      "100%|██████████| 206/206 [00:01<00:00, 197.84it/s, val_loss=0.649, val_acc=62.2]\n",
      "  4%|▎         | 11/295 [00:00<00:02, 102.82it/s, train_loss=0.652, train_acc=63.3]"
     ]
    },
    {
     "name": "stdout",
     "output_type": "stream",
     "text": [
      "\n",
      "Epoch 17/20\n"
     ]
    },
    {
     "name": "stderr",
     "output_type": "stream",
     "text": [
      "100%|██████████| 295/295 [00:02<00:00, 124.68it/s, train_loss=0.655, train_acc=62]  \n",
      "100%|██████████| 206/206 [00:01<00:00, 203.77it/s, val_loss=0.648, val_acc=62.4]\n",
      "  4%|▍         | 12/295 [00:00<00:02, 116.12it/s, train_loss=0.653, train_acc=62.2]"
     ]
    },
    {
     "name": "stdout",
     "output_type": "stream",
     "text": [
      "\n",
      "Epoch 18/20\n"
     ]
    },
    {
     "name": "stderr",
     "output_type": "stream",
     "text": [
      "100%|██████████| 295/295 [00:02<00:00, 126.78it/s, train_loss=0.654, train_acc=62.3]\n",
      "100%|██████████| 206/206 [00:01<00:00, 201.98it/s, val_loss=0.644, val_acc=62.7]\n",
      "  4%|▎         | 11/295 [00:00<00:02, 108.51it/s, train_loss=0.662, train_acc=60.9]"
     ]
    },
    {
     "name": "stdout",
     "output_type": "stream",
     "text": [
      "\n",
      "Epoch 19/20\n"
     ]
    },
    {
     "name": "stderr",
     "output_type": "stream",
     "text": [
      "100%|██████████| 295/295 [00:02<00:00, 115.35it/s, train_loss=0.652, train_acc=62.3]\n",
      "100%|██████████| 206/206 [00:01<00:00, 197.03it/s, val_loss=0.645, val_acc=62.8]\n",
      "  4%|▍         | 13/295 [00:00<00:02, 129.82it/s, train_loss=0.645, train_acc=63.7]"
     ]
    },
    {
     "name": "stdout",
     "output_type": "stream",
     "text": [
      "\n",
      "Epoch 20/20\n"
     ]
    },
    {
     "name": "stderr",
     "output_type": "stream",
     "text": [
      "100%|██████████| 295/295 [00:02<00:00, 127.27it/s, train_loss=0.652, train_acc=62.5]\n",
      "100%|██████████| 206/206 [00:01<00:00, 200.39it/s, val_loss=0.644, val_acc=63.1]\n"
     ]
    },
    {
     "name": "stdout",
     "output_type": "stream",
     "text": [
      "btcusdt train PnL: 68.62832259095107\n",
      "btcusdt val PnL: 49.98939709972121\n",
      "ethbtc train PnL: 54.73948054211772\n",
      "ethbtc val PnL: 36.81893041998177\n",
      "ltcbtc train PnL: 58.72167119006599\n",
      "ltcbtc val PnL: 52.93040820774227\n"
     ]
    },
    {
     "data": {
      "image/png": "[encoded data removed]",
      "text/plain": [
       "<Figure size 432x288 with 2 Axes>"
      ]
     },
     "metadata": {
      "needs_background": "light"
     },
     "output_type": "display_data"
    }
   ],
   "source": [
    "batch_size = 128\n",
    "\n",
    "for epoch in range(n_epochs):\n",
    "    train_running_loss = 0.\n",
    "    train_running_acc = 0.\n",
    "    train_batches = 0\n",
    "    \n",
    "    h = net.init_hidden(128)\n",
    "\n",
    "    print(f\"\\nEpoch {epoch + 1}/{n_epochs}\")\n",
    "\n",
    "    tbar = tqdm(enumerate(train_loader), leave=True, position=0, total=len(train_loader))\n",
    "    for idx, (train_input, train_target) in tbar:\n",
    "        \n",
    "        if train_input.size(0) != 128:\n",
    "            continue\n",
    "        \n",
    "        train_input = torch.unsqueeze(train_input, 2)\n",
    "        train_input = train_input.to(device)\n",
    "        train_target = train_target.to(device)\n",
    "\n",
    "        optimizer.zero_grad()\n",
    "        train_output, h = net(train_input, h)\n",
    "        \n",
    "        if type == 'lstm':\n",
    "            h = tuple([ each.data for each in h ]) # forget gradient history of hidden state\n",
    "        else:\n",
    "            h = h.data\n",
    "        \n",
    "        train_loss = loss(train_output, train_target)\n",
    "        train_loss.backward()\n",
    "        \n",
    "        # clip the gradient\n",
    "        nn.utils.clip_grad_norm_(net.parameters(), 5)\n",
    "        \n",
    "        optimizer.step()\n",
    "\n",
    "        train_batches += 1\n",
    "        train_running_loss += train_loss.cpu().clone().item()\n",
    "        train_running_acc += accuracy(train_output, train_target)\n",
    "\n",
    "        tbar.set_postfix({\"train_loss\": train_running_loss / train_batches,\n",
    "                          \"train_acc\": train_running_acc / train_batches})\n",
    "    train_losses.append(train_running_loss / train_batches)\n",
    "    train_accs.append(train_running_acc / train_batches)\n",
    "\n",
    "    val_running_loss = 0.\n",
    "    val_running_acc = 0.\n",
    "    val_batches = 0\n",
    "\n",
    "    vbar = tqdm(enumerate(val_loader), leave=True, position=0, total=len(val_loader))\n",
    "    net.eval()\n",
    "    \n",
    "    h = net.init_hidden(256)\n",
    "\n",
    "    for idx, (val_input, val_target) in vbar:\n",
    "        with torch.no_grad():\n",
    "            if val_input.size(0) != 256:\n",
    "                continue\n",
    "            \n",
    "            val_input = torch.unsqueeze(val_input, 2)\n",
    "            val_input = val_input.to(device)\n",
    "            val_target = val_target.to(device)\n",
    "            \n",
    "            val_output, h = net(val_input, h)\n",
    "            \n",
    "            # forget gradient history of hidden state\n",
    "            if type == 'lstm':\n",
    "                h = tuple([ each.data for each in h ]) \n",
    "            else:\n",
    "                h = h.data\n",
    "\n",
    "            val_loss = loss(val_output, val_target)\n",
    "\n",
    "            val_batches += 1\n",
    "            val_running_loss += val_loss.cpu().clone().item()\n",
    "            val_running_acc += accuracy(val_output, val_target)\n",
    "\n",
    "            vbar.set_postfix({\"val_loss\": val_running_loss / val_batches,\n",
    "                              \"val_acc\": val_running_acc / val_batches})\n",
    "    val_losses.append(val_running_loss / val_batches)\n",
    "    val_accs.append(val_running_acc / val_batches)\n",
    "\n",
    "commission = 2e-5\n",
    "with torch.no_grad():\n",
    "    for asset in assets:\n",
    "        candle = candle_dict[asset]\n",
    "\n",
    "        train_bt_dataset = WindowedBacktestDataset(train_features, w=window, s=step_size, asset=asset)\n",
    "        train_predictions = pd.DataFrame(columns=['preds'], index=train_bt_dataset.timestamps[asset])\n",
    "        asset_loader = DataLoader(train_bt_dataset, batch_size=200, drop_last=False)\n",
    "        \n",
    "        h = net.init_hidden(200)\n",
    "\n",
    "        for idx, batch_asset_features in enumerate(asset_loader):\n",
    "            if batch_asset_features.size(0) != 200:\n",
    "                continue\n",
    "            \n",
    "            train_batch_size = batch_asset_features.size(0)\n",
    "            batch_asset_features = torch.unsqueeze(batch_asset_features, 2)\n",
    "            batch_asset_features = batch_asset_features.to(device)\n",
    "            \n",
    "            #batch_asset_output = net(batch_asset_features)\n",
    "            batch_asset_output, h = net(batch_asset_features, h)\n",
    "            \n",
    "            # forget gradient history of hidden state\n",
    "            if type == 'lstm':\n",
    "                h = tuple([ each.data for each in h ]) \n",
    "            else:\n",
    "                h = h.data\n",
    "            \n",
    "            _, batch_asset_predictions = batch_asset_output.max(1)\n",
    "            batch_asset_predictions[batch_asset_predictions == 2] = -1\n",
    "            train_predictions['preds'][idx * train_batch_size:(idx + 1) * train_batch_size] = batch_asset_predictions.cpu().numpy()\n",
    "        train_predictions.index = train_bt_dataset.timestamps[asset]\n",
    "        train_predictions = train_predictions['preds']\n",
    "        pnl = pnl_from_positions(candle, train_predictions, commission=commission).sum()\n",
    "        print(f\"{asset} train PnL: {pnl}\")\n",
    "        \n",
    "\n",
    "        val_bt_dataset = WindowedBacktestDataset(val_features, w=window, s=step_size, asset=asset)\n",
    "        val_predictions = pd.DataFrame(columns=['preds'], index=val_bt_dataset.timestamps[asset])\n",
    "        asset_loader = DataLoader(val_bt_dataset, batch_size=200, drop_last=False)\n",
    "        \n",
    "        h = net.init_hidden(200)\n",
    "\n",
    "        for idx, batch_asset_features in enumerate(asset_loader):\n",
    "            if batch_asset_features.size(0) != 200:\n",
    "                continue\n",
    "            \n",
    "            val_batch_size = batch_asset_features.size(0)\n",
    "            batch_asset_features = torch.unsqueeze(batch_asset_features, 2)\n",
    "            batch_asset_features = batch_asset_features.to(device)\n",
    "            \n",
    "            #batch_asset_output = net(batch_asset_features)\n",
    "            batch_asset_output, h = net(batch_asset_features, h)\n",
    "            \n",
    "            # forget gradient history of hidden state\n",
    "            if type == 'lstm':\n",
    "                h = tuple([ each.data for each in h ]) \n",
    "            else:\n",
    "                h = h.data\n",
    "            \n",
    "            _, batch_asset_predictions = batch_asset_output.max(1)\n",
    "            batch_asset_predictions[batch_asset_predictions == 2] = -1\n",
    "            val_predictions['preds'][idx * val_batch_size:(idx + 1) * val_batch_size] = batch_asset_predictions.cpu().numpy()\n",
    "        val_predictions.index = val_bt_dataset.timestamps[asset]\n",
    "        val_predictions = val_predictions['preds']\n",
    "        pnl = pnl_from_positions(candle, val_predictions, commission=commission).sum()\n",
    "        print(f\"{asset} val PnL: {pnl}\")\n",
    "        \n",
    "\n",
    "fig, axs = pylab.subplots(2, 1)\n",
    "axs[0].plot(train_losses)\n",
    "axs[0].plot(val_losses)\n",
    "axs[1].plot(train_accs)\n",
    "axs[1].plot(val_accs)\n",
    "\n",
    "pylab.show()\n"
   ]
  }
 ],
 "metadata": {
  "kernelspec": {
   "display_name": "Python 3",
   "language": "python",
   "name": "python3"
  },
  "language_info": {
   "codemirror_mode": {
    "name": "ipython",
    "version": 3
   },
   "file_extension": ".py",
   "mimetype": "text/x-python",
   "name": "python",
   "nbconvert_exporter": "python",
   "pygments_lexer": "ipython3",
   "version": "3.8.3"
  }
 },
 "nbformat": 4,
 "nbformat_minor": 4
}
